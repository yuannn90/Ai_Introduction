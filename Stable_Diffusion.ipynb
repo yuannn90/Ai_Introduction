{
  "nbformat": 4,
  "nbformat_minor": 0,
  "metadata": {
    "colab": {
      "provenance": []
    },
    "kernelspec": {
      "name": "python3",
      "display_name": "Python 3"
    },
    "language_info": {
      "name": "python"
    }
  },
  "cells": [
    {
      "cell_type": "markdown",
      "source": [
        "# Stable Diffusion"
      ],
      "metadata": {
        "id": "hBcCGJ2ufEWY"
      }
    },
    {
      "cell_type": "markdown",
      "source": [
        "Stable Diffusion是一種基於AI的圖像生成技術，它通過將圖像逐步從高度隨機的噪聲狀態進行重建，最終生成一個清晰的圖像。這種技術可以用於生成各種風格和主題的圖像，如風景、人物、建築等，並能夠根據特定的指令生成具有特定特徵和風格的圖像，甚至催生了新職業ai詠唱師。Stable Diffusion在AI圖像生成領域具有很高的潛力，並且因為其免費和易用的特點，受到許多創作者和設計師的青睞。"
      ],
      "metadata": {
        "id": "LNNCHG7NfEYg"
      }
    },
    {
      "cell_type": "markdown",
      "source": [
        "◼**原理**\n",
        "\n",
        "Stable Diffusion 的原理涉及深度學習和生成對抗網絡（GAN）技術。生成對抗網絡包含兩個神經網絡，生成器和判別器，它們相互競爭以提高彼此的性能。生成器的目的是創建越來越逼真的圖像，而判別器則要將生成的圖像與真實圖像進行區分。\n",
        "\n",
        "在 Stable Diffusion 的過程中，生成器通常會接收一個隨機噪聲向量和描述圖像的文字輸入。這些輸入將被轉換成圖像特徵，然後經過多層神經網絡生成逼真的圖像。與此同時，判別器會評估生成的圖像和真實圖像之間的差異，並給出一個概率分數，表示生成的圖像的真實性。生成器和判別器之間的競爭將持續進行，直到生成器創建出高度逼真的圖像。\n",
        "\n",
        "Stable Diffusion 在這一過程中可能還利用了其他額外的技術，如自注意機制（self-attention）和梯度懲罰（gradient penalty），以提高生成圖像的質量和穩定性。"
      ],
      "metadata": {
        "id": "-fYmdBksfEad"
      }
    },
    {
      "cell_type": "markdown",
      "source": [
        "◼**Stable diffusion模型與圖庫資源**"
      ],
      "metadata": {
        "id": "URbgDL4dfEcv"
      }
    },
    {
      "cell_type": "markdown",
      "source": [
        "<div align=center>\n",
        "<img src=\"https://lh6.googleusercontent.com/25-xaj5VFYsb56ZvCq6-kYEhPNSxQtLZsXsuZ6z2G6LYIoSBtofh3O6Va-9PTZcmujinNDYUmuWkNM3N2ZsO_--IcOovSgrkTyL0MYepWki3bMtAQZ9SB2WN00HD65aiCZEdSxAVHcb_gkWsHPczL00\" width=\"50%\" height=\"50%\" div align=center />\n",
        "</div>"
      ],
      "metadata": {
        "id": "l1In4UZwfEhO"
      }
    },
    {
      "cell_type": "markdown",
      "source": [
        "<div align=center>\n",
        "<img src=\"https://lh5.googleusercontent.com/aHaQ2XBpIVSWdlQfwm4VY-3xsP8PkWaa5uKS6uSDwO6SHTTkKpQE47s4xlBD9H31b1ewNtYK_3973lxuGo0X3jiCRziYmoSQ0YTMquW6iC4z98I8H-c1p91R3BVjkKmhpJMh4RRIkEF8Cx1ZU3FPnlM\" width=\"50%\" height=\"50%\" div align=center />\n",
        "</div>"
      ],
      "metadata": {
        "id": "7-6aiTdqlUvy"
      }
    }
  ]
}