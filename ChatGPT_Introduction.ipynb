{
  "nbformat": 4,
  "nbformat_minor": 0,
  "metadata": {
    "colab": {
      "provenance": []
    },
    "kernelspec": {
      "name": "python3",
      "display_name": "Python 3"
    },
    "language_info": {
      "name": "python"
    }
  },
  "cells": [
    {
      "cell_type": "markdown",
      "source": [
        "# ChatGPT_Introduction"
      ],
      "metadata": {
        "id": "tfD-NtuMxSfn"
      }
    },
    {
      "cell_type": "markdown",
      "source": [
        "ChatGPT 是由美國人工智慧研究實驗室 OpenAI，在 2022 年 11 月底推出的一種先進的 AI 技術，ChatGPT 透過大量資料的訓練，藉此學習並內化，因此擁有超級大量的知識，也因此擁有了與人類相似的語言能力。"
      ],
      "metadata": {
        "id": "bZITBAIVzWDa"
      }
    },
    {
      "cell_type": "markdown",
      "source": [
        "ChatGPT 在推出一個月，就有超過 100 萬人使用，到了今年 1 月，使用人數就突破 1 億人，獲得許多企業和政府關注，在2023年2月被微軟收購，並以 ChatGPT的程式開發推出了網路瀏覽器「Bing AI」的預覽版，如今還在不斷地更新版本，根據史丹佛大學的研究指出，ChatGPT 的心智相當於9歲兒童，不知道到了未來會達到什麼樣的境界呢？"
      ],
      "metadata": {
        "id": "qqxhdytdzWKy"
      }
    },
    {
      "cell_type": "markdown",
      "source": [
        "ChatGPT 目前能處理部分文書和資工作業，由於 ChatGPT 擁有良好的語文能力，像是：回覆信件、處理克服、翻譯、寫歌詞、整理文字重點、修改文法錯誤、甚至是寫故事、寫網站程式碼，它都能達成；目前已有新聞業以 ChatGPT 撰寫新聞稿、廣告業改寫文案、標題，甚至有人使用 ChatGPT 寫成的小說發行販賣，用途非常廣泛。"
      ],
      "metadata": {
        "id": "luqeXY_dzWRc"
      }
    },
    {
      "cell_type": "markdown",
      "source": [
        "ChatGPT 是由 OpenAI 開發的自然語言處理（NLP）模型「GPT-3」延伸出的「GPT-3.5」製作的，基於 人類反饋強化學習(RLHF) 進行訓練，簡單來說就是人類提問機器答、機器提問人類答，並且不斷迭代，再排除掉不健康的答案，透過人類干預以增強機器學習的效果，獲得更為逼真的結果。"
      ],
      "metadata": {
        "id": "bbL-dsF15i_E"
      }
    },
    {
      "cell_type": "markdown",
      "source": [
        "<div align=center>\n",
        "<img src=\"https://s10251.pcdn.co/wp-content/uploads/2022/12/2022-Alan-D-Thompson-ChatGPT-Sparrow-Rev-0d.png\" width=\"50%\" height=\"50%\" div align=center />\n",
        "</div>"
      ],
      "metadata": {
        "id": "We1ZLNmZ5jCr"
      }
    },
    {
      "cell_type": "markdown",
      "source": [
        "⚫**GPT-3**\n",
        "\n",
        "生成型預訓練變換模型3（英語：Generative Pre-trained Transformer 3，簡稱 GPT-3）是一個自迴歸語言模型，基於谷歌開發的語言模型，模型訓練內容大部分來自網路，讓 ChatGPT 能夠相當自然地組織語句。\n",
        "GPT-3 這個模型也是當前最大的語言處理模型之一，神經網路包含1750億個參數，為有史以來參數最多的神經網路模型。"
      ],
      "metadata": {
        "id": "_9HD8kuw5jHC"
      }
    },
    {
      "cell_type": "markdown",
      "source": [
        "⚫**GPT-3.5**\n",
        "\n",
        "GPT-3.5 與 GPT-3 最大的差別在於 GPT-3 主要扮演一個蒐集資料的角色，較單純的使用網路上的資料進行訓練。\n",
        "而 GPT-3.5 則利用人類反饋強化學習(RLHF)來訓練GPT-3.5 則是由 GPT-3 微調出來的版本，而其中 GPT-3.5 使用與 GPT-3 不同的訓練方式，所產生出來不同的模型，比起 GPT-3 來的更強大。"
      ],
      "metadata": {
        "id": "FE1Q_L2DB2zF"
      }
    },
    {
      "cell_type": "markdown",
      "source": [
        "<div align=center>\n",
        "<img src=\"https://raw.githubusercontent.com/albert20699/GPT-3-LINE-BOT/main/%E8%9E%A2%E5%B9%95%E6%93%B7%E5%8F%96%E7%95%AB%E9%9D%A2%202023-01-16%20172733.jpg\" width=\"50%\" height=\"50%\" div align=center />\n",
        "</div>"
      ],
      "metadata": {
        "id": "zAr2ADonCsPa"
      }
    },
    {
      "cell_type": "markdown",
      "source": [
        "⚫**ChatGPT**\n",
        "\n",
        "而 ChatGPT 又是建立 GPT-3.5 之上，且更加上使用更完整的 人類反饋強化學習(RLHF) 去訓練。 (大致上可以想成 GPT-3 → GPT-3.5 → ChatGPT 醬子啦)\n",
        "也因此 ChatGPT 除了能夠準確理解問題，更能夠將對話一路記住和按此調整內容，其中包括承認錯誤、糾正錯處和拒絕不當要求等等較為複雜的互動內容，更符合道德要求的訓練方式，達到更接近真人的效果，這也是 GPT-3 所沒有的。"
      ],
      "metadata": {
        "id": "JK7IM2OSClm5"
      }
    },
    {
      "cell_type": "markdown",
      "source": [
        "⚫**OpenAI**\n",
        "\n",
        "OpenAI 是美國一個人工智慧（AI）研究實驗室，創始人為伊隆·馬斯克（沒錯就是特斯拉那位）以及山姆·柯曼，原先為一個非營利組織，其使命是創造通用人工智能（英文：Artificial General Intelligence，簡稱 AGI），促進和發展友好的人工智慧，使人類整體受益，後來因為營運的成本所成立一個子公司營利組織 OpenAI LP。\n",
        "OpenAI 每一年都會陸續推出自己所研發出的成果，從 GPT-1 到 GPT-3.5 都是他們所創造的成品。\n",
        "\n",
        "\n",
        "OpenAI 官方網站\n",
        "https://openai.com/"
      ],
      "metadata": {
        "id": "yAJT1pYlDC1k"
      }
    }
  ]
}